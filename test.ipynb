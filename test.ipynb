{
 "cells": [
  {
   "cell_type": "code",
   "execution_count": 1,
   "metadata": {},
   "outputs": [
    {
     "data": {
      "text/html": [
       "<style type='text/css'>\n",
       ".datatable table.frame { margin-bottom: 0; }\n",
       ".datatable table.frame thead { border-bottom: none; }\n",
       ".datatable table.frame tr.coltypes td {  color: #FFFFFF;  line-height: 6px;  padding: 0 0.5em;}\n",
       ".datatable .bool    { background: #DDDD99; }\n",
       ".datatable .object  { background: #565656; }\n",
       ".datatable .int     { background: #5D9E5D; }\n",
       ".datatable .float   { background: #4040CC; }\n",
       ".datatable .str     { background: #CC4040; }\n",
       ".datatable .time    { background: #40CC40; }\n",
       ".datatable .row_index {  background: var(--jp-border-color3);  border-right: 1px solid var(--jp-border-color0);  color: var(--jp-ui-font-color3);  font-size: 9px;}\n",
       ".datatable .frame tbody td { text-align: left; }\n",
       ".datatable .frame tr.coltypes .row_index {  background: var(--jp-border-color0);}\n",
       ".datatable th:nth-child(2) { padding-left: 12px; }\n",
       ".datatable .hellipsis {  color: var(--jp-cell-editor-border-color);}\n",
       ".datatable .vellipsis {  background: var(--jp-layout-color0);  color: var(--jp-cell-editor-border-color);}\n",
       ".datatable .na {  color: var(--jp-cell-editor-border-color);  font-size: 80%;}\n",
       ".datatable .sp {  opacity: 0.25;}\n",
       ".datatable .footer { font-size: 9px; }\n",
       ".datatable .frame_dimensions {  background: var(--jp-border-color3);  border-top: 1px solid var(--jp-border-color0);  color: var(--jp-ui-font-color3);  display: inline-block;  opacity: 0.6;  padding: 1px 10px 1px 5px;}\n",
       "</style>\n"
      ],
      "text/plain": [
       "<IPython.core.display.HTML object>"
      ]
     },
     "metadata": {},
     "output_type": "display_data"
    }
   ],
   "source": [
    "import numpy as np\n",
    "import pandas as pd \n",
    "import seaborn as sns\n",
    "import matplotlib.pyplot as plt\n",
    "import plotly.express as px\n",
    "import datatable as dt\n",
    "import zipfile\n",
    "import duckdb\n",
    "import dask.dataframe as dd\n",
    "import time\n",
    "\n",
    "import random\n",
    "import warnings\n",
    "warnings.filterwarnings(\"ignore\")"
   ]
  },
  {
   "cell_type": "code",
   "execution_count": 2,
   "metadata": {},
   "outputs": [],
   "source": [
    "dtypes = {\n",
    "    \"a\": \"int32\",\n",
    "    \"b\": \"category\",\n",
    "    \"c\": \"category\",\n",
    "    \"d\": \"category\",\n",
    "    \"e\": \"int32\",\n",
    "    \"f\": \"int32\",\n",
    "    \"g\": \"int32\",\n",
    "}"
   ]
  },
  {
   "cell_type": "code",
   "execution_count": 3,
   "metadata": {},
   "outputs": [
    {
     "name": "stdout",
     "output_type": "stream",
     "text": [
      "load train: 205.3184609\n"
     ]
    }
   ],
   "source": [
    "t = time.perf_counter()\n",
    "df = dd.read_csv('data/data.csv', skiprows=8,dtype=dtypes).compute()\n",
    "#df_train = df_train.compute()\n",
    "print(\"load train:\", time.perf_counter() - t)\n"
   ]
  },
  {
   "cell_type": "code",
   "execution_count": 4,
   "metadata": {},
   "outputs": [
    {
     "name": "stdout",
     "output_type": "stream",
     "text": [
      "<class 'pandas.core.frame.DataFrame'>\n",
      "Index: 300000000 entries, 0 to 1019366\n",
      "Data columns (total 7 columns):\n",
      " #   Column  Dtype   \n",
      "---  ------  -----   \n",
      " 0   a       int32   \n",
      " 1   b       category\n",
      " 2   c       category\n",
      " 3   d       category\n",
      " 4   e       int32   \n",
      " 5   f       int32   \n",
      " 6   g       int32   \n",
      "dtypes: category(3), int32(4)\n",
      "memory usage: 7.5 GB\n"
     ]
    }
   ],
   "source": [
    "df.info()\n"
   ]
  },
  {
   "cell_type": "code",
   "execution_count": 5,
   "metadata": {},
   "outputs": [
    {
     "data": {
      "text/html": [
       "<div>\n",
       "<style scoped>\n",
       "    .dataframe tbody tr th:only-of-type {\n",
       "        vertical-align: middle;\n",
       "    }\n",
       "\n",
       "    .dataframe tbody tr th {\n",
       "        vertical-align: top;\n",
       "    }\n",
       "\n",
       "    .dataframe thead th {\n",
       "        text-align: right;\n",
       "    }\n",
       "</style>\n",
       "<table border=\"1\" class=\"dataframe\">\n",
       "  <thead>\n",
       "    <tr style=\"text-align: right;\">\n",
       "      <th></th>\n",
       "      <th>a</th>\n",
       "      <th>b</th>\n",
       "      <th>c</th>\n",
       "      <th>d</th>\n",
       "      <th>e</th>\n",
       "      <th>f</th>\n",
       "      <th>g</th>\n",
       "    </tr>\n",
       "  </thead>\n",
       "  <tbody>\n",
       "    <tr>\n",
       "      <th>0</th>\n",
       "      <td>0</td>\n",
       "      <td>longue description 0</td>\n",
       "      <td>Victor</td>\n",
       "      <td>Évrat</td>\n",
       "      <td>1779</td>\n",
       "      <td>0</td>\n",
       "      <td>1779</td>\n",
       "    </tr>\n",
       "    <tr>\n",
       "      <th>1</th>\n",
       "      <td>1</td>\n",
       "      <td>longue description 1</td>\n",
       "      <td>Ugo</td>\n",
       "      <td>Ogier</td>\n",
       "      <td>3218</td>\n",
       "      <td>0</td>\n",
       "      <td>3218</td>\n",
       "    </tr>\n",
       "    <tr>\n",
       "      <th>2</th>\n",
       "      <td>2</td>\n",
       "      <td>longue description 2</td>\n",
       "      <td>Gerard</td>\n",
       "      <td>Zola</td>\n",
       "      <td>3909</td>\n",
       "      <td>0</td>\n",
       "      <td>3909</td>\n",
       "    </tr>\n",
       "    <tr>\n",
       "      <th>3</th>\n",
       "      <td>3</td>\n",
       "      <td>longue description 3</td>\n",
       "      <td>Ingrid</td>\n",
       "      <td>Quesada</td>\n",
       "      <td>2672</td>\n",
       "      <td>0</td>\n",
       "      <td>2672</td>\n",
       "    </tr>\n",
       "    <tr>\n",
       "      <th>4</th>\n",
       "      <td>4</td>\n",
       "      <td>longue description 4</td>\n",
       "      <td>Xavier</td>\n",
       "      <td>Yvars</td>\n",
       "      <td>4224</td>\n",
       "      <td>0</td>\n",
       "      <td>4224</td>\n",
       "    </tr>\n",
       "    <tr>\n",
       "      <th>5</th>\n",
       "      <td>5</td>\n",
       "      <td>longue description 5</td>\n",
       "      <td>Régis</td>\n",
       "      <td>Ferry</td>\n",
       "      <td>3479</td>\n",
       "      <td>0</td>\n",
       "      <td>3479</td>\n",
       "    </tr>\n",
       "    <tr>\n",
       "      <th>6</th>\n",
       "      <td>6</td>\n",
       "      <td>longue description 6</td>\n",
       "      <td>Thierry</td>\n",
       "      <td>Zola</td>\n",
       "      <td>0</td>\n",
       "      <td>-402</td>\n",
       "      <td>-402</td>\n",
       "    </tr>\n",
       "    <tr>\n",
       "      <th>7</th>\n",
       "      <td>7</td>\n",
       "      <td>longue description 7</td>\n",
       "      <td>Elodie</td>\n",
       "      <td>Hénaut</td>\n",
       "      <td>2623</td>\n",
       "      <td>0</td>\n",
       "      <td>2623</td>\n",
       "    </tr>\n",
       "    <tr>\n",
       "      <th>8</th>\n",
       "      <td>8</td>\n",
       "      <td>longue description 0</td>\n",
       "      <td>Xavier</td>\n",
       "      <td>Zola</td>\n",
       "      <td>1249</td>\n",
       "      <td>0</td>\n",
       "      <td>1249</td>\n",
       "    </tr>\n",
       "    <tr>\n",
       "      <th>9</th>\n",
       "      <td>9</td>\n",
       "      <td>longue description 1</td>\n",
       "      <td>Pascal</td>\n",
       "      <td>Cannet</td>\n",
       "      <td>1986</td>\n",
       "      <td>0</td>\n",
       "      <td>1986</td>\n",
       "    </tr>\n",
       "    <tr>\n",
       "      <th>10</th>\n",
       "      <td>10</td>\n",
       "      <td>longue description 2</td>\n",
       "      <td>Victor</td>\n",
       "      <td>Martin</td>\n",
       "      <td>4417</td>\n",
       "      <td>0</td>\n",
       "      <td>4417</td>\n",
       "    </tr>\n",
       "    <tr>\n",
       "      <th>11</th>\n",
       "      <td>11</td>\n",
       "      <td>longue description 3</td>\n",
       "      <td>Salomé</td>\n",
       "      <td>Niels</td>\n",
       "      <td>3175</td>\n",
       "      <td>0</td>\n",
       "      <td>3175</td>\n",
       "    </tr>\n",
       "    <tr>\n",
       "      <th>12</th>\n",
       "      <td>12</td>\n",
       "      <td>longue description 4</td>\n",
       "      <td>Jérémie</td>\n",
       "      <td>Quesada</td>\n",
       "      <td>0</td>\n",
       "      <td>-490</td>\n",
       "      <td>-490</td>\n",
       "    </tr>\n",
       "    <tr>\n",
       "      <th>13</th>\n",
       "      <td>13</td>\n",
       "      <td>longue description 5</td>\n",
       "      <td>Martine</td>\n",
       "      <td>Évrat</td>\n",
       "      <td>855</td>\n",
       "      <td>0</td>\n",
       "      <td>855</td>\n",
       "    </tr>\n",
       "    <tr>\n",
       "      <th>14</th>\n",
       "      <td>14</td>\n",
       "      <td>longue description 6</td>\n",
       "      <td>Zoé</td>\n",
       "      <td>Urbain</td>\n",
       "      <td>3063</td>\n",
       "      <td>0</td>\n",
       "      <td>3063</td>\n",
       "    </tr>\n",
       "    <tr>\n",
       "      <th>15</th>\n",
       "      <td>15</td>\n",
       "      <td>longue description 7</td>\n",
       "      <td>Léopold</td>\n",
       "      <td>Évrat</td>\n",
       "      <td>3453</td>\n",
       "      <td>0</td>\n",
       "      <td>3453</td>\n",
       "    </tr>\n",
       "    <tr>\n",
       "      <th>16</th>\n",
       "      <td>16</td>\n",
       "      <td>longue description 0</td>\n",
       "      <td>Nicolas</td>\n",
       "      <td>Janel</td>\n",
       "      <td>1104</td>\n",
       "      <td>0</td>\n",
       "      <td>1104</td>\n",
       "    </tr>\n",
       "    <tr>\n",
       "      <th>17</th>\n",
       "      <td>17</td>\n",
       "      <td>longue description 1</td>\n",
       "      <td>Pascal</td>\n",
       "      <td>Sablonnière</td>\n",
       "      <td>0</td>\n",
       "      <td>-973</td>\n",
       "      <td>-973</td>\n",
       "    </tr>\n",
       "    <tr>\n",
       "      <th>18</th>\n",
       "      <td>18</td>\n",
       "      <td>longue description 2</td>\n",
       "      <td>Martine</td>\n",
       "      <td>Aubry</td>\n",
       "      <td>3419</td>\n",
       "      <td>0</td>\n",
       "      <td>3419</td>\n",
       "    </tr>\n",
       "    <tr>\n",
       "      <th>19</th>\n",
       "      <td>19</td>\n",
       "      <td>longue description 3</td>\n",
       "      <td>Ugo</td>\n",
       "      <td>Hénaut</td>\n",
       "      <td>4847</td>\n",
       "      <td>0</td>\n",
       "      <td>4847</td>\n",
       "    </tr>\n",
       "  </tbody>\n",
       "</table>\n",
       "</div>"
      ],
      "text/plain": [
       "     a                     b        c            d     e    f     g\n",
       "0    0  longue description 0   Victor        Évrat  1779    0  1779\n",
       "1    1  longue description 1      Ugo        Ogier  3218    0  3218\n",
       "2    2  longue description 2   Gerard         Zola  3909    0  3909\n",
       "3    3  longue description 3   Ingrid      Quesada  2672    0  2672\n",
       "4    4  longue description 4   Xavier        Yvars  4224    0  4224\n",
       "5    5  longue description 5    Régis        Ferry  3479    0  3479\n",
       "6    6  longue description 6  Thierry         Zola     0 -402  -402\n",
       "7    7  longue description 7   Elodie       Hénaut  2623    0  2623\n",
       "8    8  longue description 0   Xavier         Zola  1249    0  1249\n",
       "9    9  longue description 1   Pascal       Cannet  1986    0  1986\n",
       "10  10  longue description 2   Victor       Martin  4417    0  4417\n",
       "11  11  longue description 3   Salomé        Niels  3175    0  3175\n",
       "12  12  longue description 4  Jérémie      Quesada     0 -490  -490\n",
       "13  13  longue description 5  Martine        Évrat   855    0   855\n",
       "14  14  longue description 6      Zoé       Urbain  3063    0  3063\n",
       "15  15  longue description 7  Léopold        Évrat  3453    0  3453\n",
       "16  16  longue description 0  Nicolas        Janel  1104    0  1104\n",
       "17  17  longue description 1   Pascal  Sablonnière     0 -973  -973\n",
       "18  18  longue description 2  Martine        Aubry  3419    0  3419\n",
       "19  19  longue description 3      Ugo       Hénaut  4847    0  4847"
      ]
     },
     "execution_count": 5,
     "metadata": {},
     "output_type": "execute_result"
    }
   ],
   "source": [
    "df.head(20)"
   ]
  },
  {
   "cell_type": "code",
   "execution_count": 6,
   "metadata": {},
   "outputs": [
    {
     "name": "stdout",
     "output_type": "stream",
     "text": [
      "                  e             f             g\n",
      "count  3.000000e+08  3.000000e+08  3.000000e+08\n",
      "mean   2.083416e+03 -8.340646e+01  4.437913e+08\n",
      "std    1.613909e+03  2.206263e+02  2.562233e+08\n",
      "min    0.000000e+00 -1.000000e+03 -2.470000e+03\n",
      "25%    5.000000e+02  0.000000e+00  2.218982e+08\n",
      "50%    2.000000e+03  0.000000e+00  4.437915e+08\n",
      "75%    3.500000e+03  0.000000e+00  6.656873e+08\n",
      "max    5.000000e+03  0.000000e+00  8.937760e+08\n"
     ]
    }
   ],
   "source": [
    "columns_of_interest = ['e', 'f', 'g']\n",
    "relevant_data = df[columns_of_interest]\n",
    "\n",
    "statistics = relevant_data.describe()\n",
    "print(statistics)"
   ]
  },
  {
   "cell_type": "code",
   "execution_count": 7,
   "metadata": {},
   "outputs": [
    {
     "data": {
      "text/plain": [
       "<AxesSubplot: xlabel='b'>"
      ]
     },
     "execution_count": 7,
     "metadata": {},
     "output_type": "execute_result"
    },
    {
     "data": {
      "image/png": "[encoded data removed]",
      "text/plain": [
       "<Figure size 640x480 with 1 Axes>"
      ]
     },
     "metadata": {},
     "output_type": "display_data"
    }
   ],
   "source": [
    "df['b'].value_counts().head(10).plot(kind = 'bar', color = 'darkgreen')"
   ]
  },
  {
   "cell_type": "code",
   "execution_count": 8,
   "metadata": {},
   "outputs": [
    {
     "data": {
      "image/png": "[encoded data removed]",
      "text/plain": [
       "<Figure size 1100x400 with 1 Axes>"
      ]
     },
     "metadata": {},
     "output_type": "display_data"
    }
   ],
   "source": [
    "fig= plt.figure(figsize=(11,4))\n",
    "type_count = df['b'].value_counts()\n",
    "ax1= plt.subplot(1,2,1)\n",
    "ax1.pie(type_count.values, labels = type_count.index, autopct='%1.1f%%')\n",
    "ax1.set_title(\"Description\")\n",
    "\n",
    "plt.subplots_adjust(wspace=0.7)\n",
    "plt.show()"
   ]
  },
  {
   "cell_type": "code",
   "execution_count": 9,
   "metadata": {},
   "outputs": [
    {
     "data": {
      "text/plain": [
       "<AxesSubplot: >"
      ]
     },
     "execution_count": 9,
     "metadata": {},
     "output_type": "execute_result"
    },
    {
     "data": {
      "image/png": "[encoded data removed]",
      "text/plain": [
       "<Figure size 1500x1200 with 2 Axes>"
      ]
     },
     "metadata": {},
     "output_type": "display_data"
    }
   ],
   "source": [
    "sampled_df = df.sample(frac=0.1)\n",
    "corr_matrix = sampled_df[df.select_dtypes(include='number').columns].corr().round(3)\n",
    "colormap = plt.cm.RdBu_r\n",
    "mask = np.triu(np.ones_like(corr_matrix, dtype=bool))\n",
    "plt.figure(figsize = (15,12))\n",
    "sns.heatmap(corr_matrix,linewidths=0.1, vmax=1.0, vmin=-1.0, annot = True, \n",
    "            linecolor='white',cmap= colormap, square = True, fmt='.2g', annot_kws={\"size\": 14}, mask = mask)"
   ]
  },
  {
   "cell_type": "code",
   "execution_count": 13,
   "metadata": {},
   "outputs": [
    {
     "data": {
      "text/html": [
       "<div>\n",
       "<style scoped>\n",
       "    .dataframe tbody tr th:only-of-type {\n",
       "        vertical-align: middle;\n",
       "    }\n",
       "\n",
       "    .dataframe tbody tr th {\n",
       "        vertical-align: top;\n",
       "    }\n",
       "\n",
       "    .dataframe thead th {\n",
       "        text-align: right;\n",
       "    }\n",
       "</style>\n",
       "<table border=\"1\" class=\"dataframe\">\n",
       "  <thead>\n",
       "    <tr style=\"text-align: right;\">\n",
       "      <th></th>\n",
       "      <th>a</th>\n",
       "      <th>b</th>\n",
       "      <th>c</th>\n",
       "      <th>d</th>\n",
       "      <th>e</th>\n",
       "      <th>f</th>\n",
       "      <th>g</th>\n",
       "    </tr>\n",
       "  </thead>\n",
       "  <tbody>\n",
       "  </tbody>\n",
       "</table>\n",
       "</div>"
      ],
      "text/plain": [
       "Empty DataFrame\n",
       "Columns: [a, b, c, d, e, f, g]\n",
       "Index: []"
      ]
     },
     "execution_count": 13,
     "metadata": {},
     "output_type": "execute_result"
    }
   ],
   "source": [
    "df[(df['e'] != 0) & (df['f'] !=0) & (df['g']!=0)]"
   ]
  },
  {
   "cell_type": "code",
   "execution_count": 14,
   "metadata": {},
   "outputs": [
    {
     "data": {
      "text/html": [
       "<div>\n",
       "<style scoped>\n",
       "    .dataframe tbody tr th:only-of-type {\n",
       "        vertical-align: middle;\n",
       "    }\n",
       "\n",
       "    .dataframe tbody tr th {\n",
       "        vertical-align: top;\n",
       "    }\n",
       "\n",
       "    .dataframe thead th {\n",
       "        text-align: right;\n",
       "    }\n",
       "</style>\n",
       "<table border=\"1\" class=\"dataframe\">\n",
       "  <thead>\n",
       "    <tr style=\"text-align: right;\">\n",
       "      <th></th>\n",
       "      <th>a</th>\n",
       "      <th>b</th>\n",
       "      <th>c</th>\n",
       "      <th>d</th>\n",
       "      <th>e</th>\n",
       "      <th>f</th>\n",
       "      <th>g</th>\n",
       "    </tr>\n",
       "  </thead>\n",
       "  <tbody>\n",
       "    <tr>\n",
       "      <th>6</th>\n",
       "      <td>6</td>\n",
       "      <td>longue description 6</td>\n",
       "      <td>Thierry</td>\n",
       "      <td>Zola</td>\n",
       "      <td>0</td>\n",
       "      <td>-402</td>\n",
       "      <td>-402</td>\n",
       "    </tr>\n",
       "    <tr>\n",
       "      <th>12</th>\n",
       "      <td>12</td>\n",
       "      <td>longue description 4</td>\n",
       "      <td>Jérémie</td>\n",
       "      <td>Quesada</td>\n",
       "      <td>0</td>\n",
       "      <td>-490</td>\n",
       "      <td>-490</td>\n",
       "    </tr>\n",
       "    <tr>\n",
       "      <th>17</th>\n",
       "      <td>17</td>\n",
       "      <td>longue description 1</td>\n",
       "      <td>Pascal</td>\n",
       "      <td>Sablonnière</td>\n",
       "      <td>0</td>\n",
       "      <td>-973</td>\n",
       "      <td>-973</td>\n",
       "    </tr>\n",
       "    <tr>\n",
       "      <th>34</th>\n",
       "      <td>34</td>\n",
       "      <td>longue description 2</td>\n",
       "      <td>William</td>\n",
       "      <td>Truchot</td>\n",
       "      <td>0</td>\n",
       "      <td>-159</td>\n",
       "      <td>-159</td>\n",
       "    </tr>\n",
       "    <tr>\n",
       "      <th>39</th>\n",
       "      <td>39</td>\n",
       "      <td>longue description 7</td>\n",
       "      <td>Karim</td>\n",
       "      <td>Sablonnière</td>\n",
       "      <td>0</td>\n",
       "      <td>-183</td>\n",
       "      <td>-183</td>\n",
       "    </tr>\n",
       "    <tr>\n",
       "      <th>...</th>\n",
       "      <td>...</td>\n",
       "      <td>...</td>\n",
       "      <td>...</td>\n",
       "      <td>...</td>\n",
       "      <td>...</td>\n",
       "      <td>...</td>\n",
       "      <td>...</td>\n",
       "    </tr>\n",
       "    <tr>\n",
       "      <th>5716</th>\n",
       "      <td>5716</td>\n",
       "      <td>longue description 4</td>\n",
       "      <td>Karim</td>\n",
       "      <td>Quesada</td>\n",
       "      <td>297</td>\n",
       "      <td>0</td>\n",
       "      <td>-745</td>\n",
       "    </tr>\n",
       "    <tr>\n",
       "      <th>6751</th>\n",
       "      <td>6751</td>\n",
       "      <td>longue description 7</td>\n",
       "      <td>Victor</td>\n",
       "      <td>Niels</td>\n",
       "      <td>1181</td>\n",
       "      <td>0</td>\n",
       "      <td>-945</td>\n",
       "    </tr>\n",
       "    <tr>\n",
       "      <th>6837</th>\n",
       "      <td>6837</td>\n",
       "      <td>longue description 5</td>\n",
       "      <td>Pascal</td>\n",
       "      <td>Walliand</td>\n",
       "      <td>3817</td>\n",
       "      <td>0</td>\n",
       "      <td>3261</td>\n",
       "    </tr>\n",
       "    <tr>\n",
       "      <th>7655</th>\n",
       "      <td>7655</td>\n",
       "      <td>longue description 7</td>\n",
       "      <td>Victor</td>\n",
       "      <td>Niels</td>\n",
       "      <td>2887</td>\n",
       "      <td>0</td>\n",
       "      <td>1942</td>\n",
       "    </tr>\n",
       "    <tr>\n",
       "      <th>7934</th>\n",
       "      <td>7934</td>\n",
       "      <td>longue description 6</td>\n",
       "      <td>Karim</td>\n",
       "      <td>Quesada</td>\n",
       "      <td>2671</td>\n",
       "      <td>0</td>\n",
       "      <td>1926</td>\n",
       "    </tr>\n",
       "  </tbody>\n",
       "</table>\n",
       "<p>361 rows × 7 columns</p>\n",
       "</div>"
      ],
      "text/plain": [
       "         a                     b        c            d     e    f     g\n",
       "6        6  longue description 6  Thierry         Zola     0 -402  -402\n",
       "12      12  longue description 4  Jérémie      Quesada     0 -490  -490\n",
       "17      17  longue description 1   Pascal  Sablonnière     0 -973  -973\n",
       "34      34  longue description 2  William      Truchot     0 -159  -159\n",
       "39      39  longue description 7    Karim  Sablonnière     0 -183  -183\n",
       "...    ...                   ...      ...          ...   ...  ...   ...\n",
       "5716  5716  longue description 4    Karim      Quesada   297    0  -745\n",
       "6751  6751  longue description 7   Victor        Niels  1181    0  -945\n",
       "6837  6837  longue description 5   Pascal     Walliand  3817    0  3261\n",
       "7655  7655  longue description 7   Victor        Niels  2887    0  1942\n",
       "7934  7934  longue description 6    Karim      Quesada  2671    0  1926\n",
       "\n",
       "[361 rows x 7 columns]"
      ]
     },
     "execution_count": 14,
     "metadata": {},
     "output_type": "execute_result"
    }
   ],
   "source": [
    "df[(df['e'] > df['g'])]"
   ]
  },
  {
   "cell_type": "code",
   "execution_count": 29,
   "metadata": {},
   "outputs": [
    {
     "data": {
      "text/html": [
       "<div>\n",
       "<style scoped>\n",
       "    .dataframe tbody tr th:only-of-type {\n",
       "        vertical-align: middle;\n",
       "    }\n",
       "\n",
       "    .dataframe tbody tr th {\n",
       "        vertical-align: top;\n",
       "    }\n",
       "\n",
       "    .dataframe thead th {\n",
       "        text-align: right;\n",
       "    }\n",
       "</style>\n",
       "<table border=\"1\" class=\"dataframe\">\n",
       "  <thead>\n",
       "    <tr style=\"text-align: right;\">\n",
       "      <th></th>\n",
       "      <th>a</th>\n",
       "      <th>b</th>\n",
       "      <th>c</th>\n",
       "      <th>d</th>\n",
       "      <th>e</th>\n",
       "      <th>f</th>\n",
       "      <th>g</th>\n",
       "    </tr>\n",
       "  </thead>\n",
       "  <tbody>\n",
       "  </tbody>\n",
       "</table>\n",
       "</div>"
      ],
      "text/plain": [
       "Empty DataFrame\n",
       "Columns: [a, b, c, d, e, f, g]\n",
       "Index: []"
      ]
     },
     "execution_count": 29,
     "metadata": {},
     "output_type": "execute_result"
    }
   ],
   "source": [
    "df[(df['f'] > df['e'])]"
   ]
  },
  {
   "cell_type": "code",
   "execution_count": 53,
   "metadata": {},
   "outputs": [],
   "source": [
    "# e columns values always greater than f column values "
   ]
  },
  {
   "cell_type": "code",
   "execution_count": 28,
   "metadata": {},
   "outputs": [
    {
     "data": {
      "text/html": [
       "<div>\n",
       "<style scoped>\n",
       "    .dataframe tbody tr th:only-of-type {\n",
       "        vertical-align: middle;\n",
       "    }\n",
       "\n",
       "    .dataframe tbody tr th {\n",
       "        vertical-align: top;\n",
       "    }\n",
       "\n",
       "    .dataframe thead th {\n",
       "        text-align: right;\n",
       "    }\n",
       "</style>\n",
       "<table border=\"1\" class=\"dataframe\">\n",
       "  <thead>\n",
       "    <tr style=\"text-align: right;\">\n",
       "      <th></th>\n",
       "      <th>a</th>\n",
       "      <th>b</th>\n",
       "      <th>c</th>\n",
       "      <th>d</th>\n",
       "      <th>e</th>\n",
       "      <th>f</th>\n",
       "      <th>g</th>\n",
       "    </tr>\n",
       "  </thead>\n",
       "  <tbody>\n",
       "    <tr>\n",
       "      <th>238</th>\n",
       "      <td>238</td>\n",
       "      <td>longue description 6</td>\n",
       "      <td>Xavier</td>\n",
       "      <td>Janel</td>\n",
       "      <td>219</td>\n",
       "      <td>0</td>\n",
       "      <td>-156</td>\n",
       "    </tr>\n",
       "    <tr>\n",
       "      <th>416</th>\n",
       "      <td>416</td>\n",
       "      <td>longue description 0</td>\n",
       "      <td>Thierry</td>\n",
       "      <td>Sablonnière</td>\n",
       "      <td>505</td>\n",
       "      <td>0</td>\n",
       "      <td>-174</td>\n",
       "    </tr>\n",
       "    <tr>\n",
       "      <th>425</th>\n",
       "      <td>425</td>\n",
       "      <td>longue description 1</td>\n",
       "      <td>Elodie</td>\n",
       "      <td>Geneau</td>\n",
       "      <td>776</td>\n",
       "      <td>0</td>\n",
       "      <td>-8</td>\n",
       "    </tr>\n",
       "    <tr>\n",
       "      <th>426</th>\n",
       "      <td>426</td>\n",
       "      <td>longue description 2</td>\n",
       "      <td>William</td>\n",
       "      <td>Martin</td>\n",
       "      <td>0</td>\n",
       "      <td>-935</td>\n",
       "      <td>-1396</td>\n",
       "    </tr>\n",
       "    <tr>\n",
       "      <th>445</th>\n",
       "      <td>445</td>\n",
       "      <td>longue description 5</td>\n",
       "      <td>Damien</td>\n",
       "      <td>Janel</td>\n",
       "      <td>236</td>\n",
       "      <td>0</td>\n",
       "      <td>-300</td>\n",
       "    </tr>\n",
       "    <tr>\n",
       "      <th>...</th>\n",
       "      <td>...</td>\n",
       "      <td>...</td>\n",
       "      <td>...</td>\n",
       "      <td>...</td>\n",
       "      <td>...</td>\n",
       "      <td>...</td>\n",
       "      <td>...</td>\n",
       "    </tr>\n",
       "    <tr>\n",
       "      <th>3971</th>\n",
       "      <td>3971</td>\n",
       "      <td>longue description 3</td>\n",
       "      <td>Pascal</td>\n",
       "      <td>Walliand</td>\n",
       "      <td>52</td>\n",
       "      <td>0</td>\n",
       "      <td>-556</td>\n",
       "    </tr>\n",
       "    <tr>\n",
       "      <th>4573</th>\n",
       "      <td>4573</td>\n",
       "      <td>longue description 5</td>\n",
       "      <td>Victor</td>\n",
       "      <td>Niels</td>\n",
       "      <td>0</td>\n",
       "      <td>-813</td>\n",
       "      <td>-2126</td>\n",
       "    </tr>\n",
       "    <tr>\n",
       "      <th>5695</th>\n",
       "      <td>5695</td>\n",
       "      <td>longue description 7</td>\n",
       "      <td>Karim</td>\n",
       "      <td>Quesada</td>\n",
       "      <td>0</td>\n",
       "      <td>-791</td>\n",
       "      <td>-1042</td>\n",
       "    </tr>\n",
       "    <tr>\n",
       "      <th>5716</th>\n",
       "      <td>5716</td>\n",
       "      <td>longue description 4</td>\n",
       "      <td>Karim</td>\n",
       "      <td>Quesada</td>\n",
       "      <td>297</td>\n",
       "      <td>0</td>\n",
       "      <td>-745</td>\n",
       "    </tr>\n",
       "    <tr>\n",
       "      <th>6751</th>\n",
       "      <td>6751</td>\n",
       "      <td>longue description 7</td>\n",
       "      <td>Victor</td>\n",
       "      <td>Niels</td>\n",
       "      <td>1181</td>\n",
       "      <td>0</td>\n",
       "      <td>-945</td>\n",
       "    </tr>\n",
       "  </tbody>\n",
       "</table>\n",
       "<p>71 rows × 7 columns</p>\n",
       "</div>"
      ],
      "text/plain": [
       "         a                     b        c            d     e    f     g\n",
       "238    238  longue description 6   Xavier        Janel   219    0  -156\n",
       "416    416  longue description 0  Thierry  Sablonnière   505    0  -174\n",
       "425    425  longue description 1   Elodie       Geneau   776    0    -8\n",
       "426    426  longue description 2  William       Martin     0 -935 -1396\n",
       "445    445  longue description 5   Damien        Janel   236    0  -300\n",
       "...    ...                   ...      ...          ...   ...  ...   ...\n",
       "3971  3971  longue description 3   Pascal     Walliand    52    0  -556\n",
       "4573  4573  longue description 5   Victor        Niels     0 -813 -2126\n",
       "5695  5695  longue description 7    Karim      Quesada     0 -791 -1042\n",
       "5716  5716  longue description 4    Karim      Quesada   297    0  -745\n",
       "6751  6751  longue description 7   Victor        Niels  1181    0  -945\n",
       "\n",
       "[71 rows x 7 columns]"
      ]
     },
     "execution_count": 28,
     "metadata": {},
     "output_type": "execute_result"
    }
   ],
   "source": [
    "df[(df['f'] > df['g'])]"
   ]
  },
  {
   "cell_type": "code",
   "execution_count": 20,
   "metadata": {},
   "outputs": [
    {
     "data": {
      "text/plain": [
       "5001"
      ]
     },
     "execution_count": 20,
     "metadata": {},
     "output_type": "execute_result"
    }
   ],
   "source": [
    "df['e'].nunique()"
   ]
  },
  {
   "cell_type": "code",
   "execution_count": 21,
   "metadata": {},
   "outputs": [
    {
     "data": {
      "text/plain": [
       "1001"
      ]
     },
     "execution_count": 21,
     "metadata": {},
     "output_type": "execute_result"
    }
   ],
   "source": [
    "df['f'].nunique()"
   ]
  },
  {
   "cell_type": "code",
   "execution_count": 22,
   "metadata": {},
   "outputs": [
    {
     "data": {
      "text/plain": [
       "254607628"
      ]
     },
     "execution_count": 22,
     "metadata": {},
     "output_type": "execute_result"
    }
   ],
   "source": [
    "df['g'].nunique()"
   ]
  },
  {
   "cell_type": "code",
   "execution_count": 26,
   "metadata": {},
   "outputs": [
    {
     "data": {
      "text/plain": [
       "0"
      ]
     },
     "execution_count": 26,
     "metadata": {},
     "output_type": "execute_result"
    }
   ],
   "source": [
    "df.duplicated().sum()"
   ]
  },
  {
   "cell_type": "code",
   "execution_count": 27,
   "metadata": {},
   "outputs": [
    {
     "data": {
      "text/plain": [
       "a    0\n",
       "b    0\n",
       "c    0\n",
       "d    0\n",
       "e    0\n",
       "f    0\n",
       "g    0\n",
       "dtype: int64"
      ]
     },
     "execution_count": 27,
     "metadata": {},
     "output_type": "execute_result"
    }
   ],
   "source": [
    "df.isna().sum()"
   ]
  },
  {
   "cell_type": "code",
   "execution_count": 47,
   "metadata": {},
   "outputs": [],
   "source": [
    "filtered_df2=df[(df['c'] ==\"Victor\") & (df['d']==\"Niels\")]"
   ]
  },
  {
   "cell_type": "code",
   "execution_count": 38,
   "metadata": {},
   "outputs": [
    {
     "data": {
      "text/plain": [
       "a    444242\n",
       "b    444242\n",
       "c    444242\n",
       "d    444242\n",
       "e    444242\n",
       "f    444242\n",
       "g    444242\n",
       "dtype: int64"
      ]
     },
     "execution_count": 38,
     "metadata": {},
     "output_type": "execute_result"
    }
   ],
   "source": [
    "df[(df['c'] ==\"Karim\") & (df['d']==\"Quesada\")].count()"
   ]
  },
  {
   "cell_type": "code",
   "execution_count": 40,
   "metadata": {},
   "outputs": [],
   "source": [
    "filtered_df = df[(df['c'] ==\"Karim\") & (df['d']==\"Quesada\")]"
   ]
  },
  {
   "cell_type": "code",
   "execution_count": 46,
   "metadata": {},
   "outputs": [
    {
     "data": {
      "text/html": [
       "<div>\n",
       "<style scoped>\n",
       "    .dataframe tbody tr th:only-of-type {\n",
       "        vertical-align: middle;\n",
       "    }\n",
       "\n",
       "    .dataframe tbody tr th {\n",
       "        vertical-align: top;\n",
       "    }\n",
       "\n",
       "    .dataframe thead th {\n",
       "        text-align: right;\n",
       "    }\n",
       "</style>\n",
       "<table border=\"1\" class=\"dataframe\">\n",
       "  <thead>\n",
       "    <tr style=\"text-align: right;\">\n",
       "      <th></th>\n",
       "      <th>a</th>\n",
       "      <th>b</th>\n",
       "      <th>c</th>\n",
       "      <th>d</th>\n",
       "      <th>e</th>\n",
       "      <th>f</th>\n",
       "      <th>g</th>\n",
       "    </tr>\n",
       "  </thead>\n",
       "  <tbody>\n",
       "    <tr>\n",
       "      <th>4731</th>\n",
       "      <td>4731</td>\n",
       "      <td>longue description 3</td>\n",
       "      <td>Karim</td>\n",
       "      <td>Quesada</td>\n",
       "      <td>0</td>\n",
       "      <td>-251</td>\n",
       "      <td>-251</td>\n",
       "    </tr>\n",
       "    <tr>\n",
       "      <th>5695</th>\n",
       "      <td>5695</td>\n",
       "      <td>longue description 7</td>\n",
       "      <td>Karim</td>\n",
       "      <td>Quesada</td>\n",
       "      <td>0</td>\n",
       "      <td>-791</td>\n",
       "      <td>-1042</td>\n",
       "    </tr>\n",
       "    <tr>\n",
       "      <th>5716</th>\n",
       "      <td>5716</td>\n",
       "      <td>longue description 4</td>\n",
       "      <td>Karim</td>\n",
       "      <td>Quesada</td>\n",
       "      <td>297</td>\n",
       "      <td>0</td>\n",
       "      <td>-745</td>\n",
       "    </tr>\n",
       "    <tr>\n",
       "      <th>7934</th>\n",
       "      <td>7934</td>\n",
       "      <td>longue description 6</td>\n",
       "      <td>Karim</td>\n",
       "      <td>Quesada</td>\n",
       "      <td>2671</td>\n",
       "      <td>0</td>\n",
       "      <td>1926</td>\n",
       "    </tr>\n",
       "    <tr>\n",
       "      <th>9185</th>\n",
       "      <td>9185</td>\n",
       "      <td>longue description 1</td>\n",
       "      <td>Karim</td>\n",
       "      <td>Quesada</td>\n",
       "      <td>3071</td>\n",
       "      <td>0</td>\n",
       "      <td>4997</td>\n",
       "    </tr>\n",
       "  </tbody>\n",
       "</table>\n",
       "</div>"
      ],
      "text/plain": [
       "         a                     b      c        d     e    f     g\n",
       "4731  4731  longue description 3  Karim  Quesada     0 -251  -251\n",
       "5695  5695  longue description 7  Karim  Quesada     0 -791 -1042\n",
       "5716  5716  longue description 4  Karim  Quesada   297    0  -745\n",
       "7934  7934  longue description 6  Karim  Quesada  2671    0  1926\n",
       "9185  9185  longue description 1  Karim  Quesada  3071    0  4997"
      ]
     },
     "execution_count": 46,
     "metadata": {},
     "output_type": "execute_result"
    }
   ],
   "source": [
    "filtered_df.head()"
   ]
  },
  {
   "cell_type": "code",
   "execution_count": 49,
   "metadata": {},
   "outputs": [
    {
     "name": "stdout",
     "output_type": "stream",
     "text": [
      "karim g column: 926798001\n",
      "Victor g column: 922999535\n"
     ]
    }
   ],
   "source": [
    "print(f\"karim g column: {filtered_df['e'].sum()}\")\n",
    "print(f\"Victor g column: {filtered_df2['e'].sum()}\")\n"
   ]
  },
  {
   "cell_type": "code",
   "execution_count": 50,
   "metadata": {},
   "outputs": [
    {
     "name": "stdout",
     "output_type": "stream",
     "text": [
      "karim f column: -37036678\n",
      "Victor f column: -37003550\n"
     ]
    }
   ],
   "source": [
    "print(f\"karim f column: {filtered_df['f'].sum()}\")\n",
    "print(f\"Victor f column: {filtered_df2['f'].sum()}\")"
   ]
  },
  {
   "cell_type": "code",
   "execution_count": 51,
   "metadata": {},
   "outputs": [
    {
     "name": "stdout",
     "output_type": "stream",
     "text": [
      "karim g column: 197610601320582\n",
      "Victor g column: 196432973051044\n"
     ]
    }
   ],
   "source": [
    "print(f\"karim g column: {filtered_df['g'].sum()}\")\n",
    "print(f\"Victor g column: {filtered_df2['g'].sum()}\")"
   ]
  },
  {
   "cell_type": "code",
   "execution_count": 52,
   "metadata": {},
   "outputs": [],
   "source": [
    "# based on two simple we can see that g column always has the bigger number where f negative "
   ]
  },
  {
   "cell_type": "code",
   "execution_count": 67,
   "metadata": {},
   "outputs": [],
   "source": [
    "grouped_sum_sorted = df.groupby(['c', 'd']).agg({'g': 'sum', 'e': 'sum', 'f': 'sum'}).sort_values(by='g')\n"
   ]
  },
  {
   "cell_type": "code",
   "execution_count": 71,
   "metadata": {},
   "outputs": [],
   "source": [
    "grouped_sum_sorted['result'] = grouped_sum_sorted['g'] + grouped_sum_sorted['e'] + grouped_sum_sorted['f']"
   ]
  },
  {
   "cell_type": "code",
   "execution_count": 75,
   "metadata": {},
   "outputs": [
    {
     "data": {
      "text/html": [
       "<div>\n",
       "<style scoped>\n",
       "    .dataframe tbody tr th:only-of-type {\n",
       "        vertical-align: middle;\n",
       "    }\n",
       "\n",
       "    .dataframe tbody tr th {\n",
       "        vertical-align: top;\n",
       "    }\n",
       "\n",
       "    .dataframe thead th {\n",
       "        text-align: right;\n",
       "    }\n",
       "</style>\n",
       "<table border=\"1\" class=\"dataframe\">\n",
       "  <thead>\n",
       "    <tr style=\"text-align: right;\">\n",
       "      <th></th>\n",
       "      <th></th>\n",
       "      <th>g</th>\n",
       "      <th>e</th>\n",
       "      <th>f</th>\n",
       "      <th>result</th>\n",
       "    </tr>\n",
       "    <tr>\n",
       "      <th>c</th>\n",
       "      <th>d</th>\n",
       "      <th></th>\n",
       "      <th></th>\n",
       "      <th></th>\n",
       "      <th></th>\n",
       "    </tr>\n",
       "  </thead>\n",
       "  <tbody>\n",
       "    <tr>\n",
       "      <th>Pascal</th>\n",
       "      <th>Xharde</th>\n",
       "      <td>195239387233313</td>\n",
       "      <td>919057289</td>\n",
       "      <td>-37197561</td>\n",
       "      <td>195240269093041</td>\n",
       "    </tr>\n",
       "    <tr>\n",
       "      <th>Océane</th>\n",
       "      <th>Hénaut</th>\n",
       "      <td>195434236559770</td>\n",
       "      <td>920787277</td>\n",
       "      <td>-36859881</td>\n",
       "      <td>195435120487166</td>\n",
       "    </tr>\n",
       "    <tr>\n",
       "      <th>Ugo</th>\n",
       "      <th>Geneau</th>\n",
       "      <td>195478544687850</td>\n",
       "      <td>920775767</td>\n",
       "      <td>-37161138</td>\n",
       "      <td>195479428302479</td>\n",
       "    </tr>\n",
       "    <tr>\n",
       "      <th>Gerard</th>\n",
       "      <th>Quesada</th>\n",
       "      <td>195517304209457</td>\n",
       "      <td>920462772</td>\n",
       "      <td>-37031941</td>\n",
       "      <td>195518187640288</td>\n",
       "    </tr>\n",
       "    <tr>\n",
       "      <th>Victor</th>\n",
       "      <th>Ivanov</th>\n",
       "      <td>195520425690798</td>\n",
       "      <td>921053927</td>\n",
       "      <td>-37043513</td>\n",
       "      <td>195521309701212</td>\n",
       "    </tr>\n",
       "    <tr>\n",
       "      <th>...</th>\n",
       "      <th>...</th>\n",
       "      <td>...</td>\n",
       "      <td>...</td>\n",
       "      <td>...</td>\n",
       "      <td>...</td>\n",
       "    </tr>\n",
       "    <tr>\n",
       "      <th>Salomé</th>\n",
       "      <th>Urbain</th>\n",
       "      <td>198399223960303</td>\n",
       "      <td>928164291</td>\n",
       "      <td>-37023073</td>\n",
       "      <td>198400115101521</td>\n",
       "    </tr>\n",
       "    <tr>\n",
       "      <th rowspan=\"2\" valign=\"top\">Océane</th>\n",
       "      <th>Urbain</th>\n",
       "      <td>198488872427144</td>\n",
       "      <td>928611115</td>\n",
       "      <td>-36700655</td>\n",
       "      <td>198489764337604</td>\n",
       "    </tr>\n",
       "    <tr>\n",
       "      <th>Niels</th>\n",
       "      <td>198639921595881</td>\n",
       "      <td>928388180</td>\n",
       "      <td>-37091200</td>\n",
       "      <td>198640812892861</td>\n",
       "    </tr>\n",
       "    <tr>\n",
       "      <th>Céline</th>\n",
       "      <th>Barbier</th>\n",
       "      <td>198659273882717</td>\n",
       "      <td>928732181</td>\n",
       "      <td>-37374932</td>\n",
       "      <td>198660165239966</td>\n",
       "    </tr>\n",
       "    <tr>\n",
       "      <th>Zoé</th>\n",
       "      <th>Walliand</th>\n",
       "      <td>198899192162975</td>\n",
       "      <td>930697893</td>\n",
       "      <td>-36922000</td>\n",
       "      <td>198900085938868</td>\n",
       "    </tr>\n",
       "  </tbody>\n",
       "</table>\n",
       "<p>676 rows × 4 columns</p>\n",
       "</div>"
      ],
      "text/plain": [
       "                               g          e         f           result\n",
       "c      d                                                              \n",
       "Pascal Xharde    195239387233313  919057289 -37197561  195240269093041\n",
       "Océane Hénaut    195434236559770  920787277 -36859881  195435120487166\n",
       "Ugo    Geneau    195478544687850  920775767 -37161138  195479428302479\n",
       "Gerard Quesada   195517304209457  920462772 -37031941  195518187640288\n",
       "Victor Ivanov    195520425690798  921053927 -37043513  195521309701212\n",
       "...                          ...        ...       ...              ...\n",
       "Salomé Urbain    198399223960303  928164291 -37023073  198400115101521\n",
       "Océane Urbain    198488872427144  928611115 -36700655  198489764337604\n",
       "       Niels     198639921595881  928388180 -37091200  198640812892861\n",
       "Céline Barbier   198659273882717  928732181 -37374932  198660165239966\n",
       "Zoé    Walliand  198899192162975  930697893 -36922000  198900085938868\n",
       "\n",
       "[676 rows x 4 columns]"
      ]
     },
     "execution_count": 75,
     "metadata": {},
     "output_type": "execute_result"
    }
   ],
   "source": [
    "grouped_sum_sorted.sort_values(by='result')"
   ]
  },
  {
   "cell_type": "code",
   "execution_count": null,
   "metadata": {},
   "outputs": [],
   "source": [
    "# Zoé\tWalliand , Céline\tBarbier , Océane Niels are the 3 richest people \n",
    "# we can conclude that the a column is the index followed by b column that can be the industry or the source of wealth \n",
    "# then the first and second name in both c and d column \n",
    "# then we have the g column that has the bigger values that can be the accumulation of money during a specific period \n",
    "# then f that has negative values or null it should be the debt \n",
    "# last but not least e column that can be the income "
   ]
  }
 ],
 "metadata": {
  "kernelspec": {
   "display_name": "Python 3",
   "language": "python",
   "name": "python3"
  },
  "language_info": {
   "codemirror_mode": {
    "name": "ipython",
    "version": 3
   },
   "file_extension": ".py",
   "mimetype": "text/x-python",
   "name": "python",
   "nbconvert_exporter": "python",
   "pygments_lexer": "ipython3",
   "version": "3.10.0"
  }
 },
 "nbformat": 4,
 "nbformat_minor": 2
}
